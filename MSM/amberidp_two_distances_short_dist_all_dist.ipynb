{
 "cells": [
  {
   "cell_type": "code",
   "execution_count": 1,
   "metadata": {},
   "outputs": [
    {
     "name": "stdout",
     "output_type": "stream",
     "text": [
      "Populating the interactive namespace from numpy and matplotlib\n"
     ]
    },
    {
     "name": "stderr",
     "output_type": "stream",
     "text": [
      "/Users/mpapadourakis/anaconda3/lib/python3.7/site-packages/ipykernel_launcher.py:16: DeprecationWarning: The rdkit.Chem.MCS module is deprecated; please use rdkit.Chem.rdFMCS instead.\n",
      "  app.launch_new_instance()\n",
      "/Users/mpapadourakis/anaconda3/lib/python3.7/site-packages/pyemma/_ext/orderedset/__init__.py:5: DeprecationWarning: Using or importing the ABCs from 'collections' instead of from 'collections.abc' is deprecated, and in 3.8 it will stop working\n",
      "  from ._orderedset import OrderedSet\n"
     ]
    }
   ],
   "source": [
    "%pylab inline\n",
    "import matplotlib.pyplot  as plt\n",
    "import sys,os\n",
    "import numpy\n",
    "import glob\n",
    "import seaborn as sbn\n",
    "sbn.set_style(\"whitegrid\")\n",
    "import gzip\n",
    "import pickle\n",
    "import pandas as pd\n",
    "import mdtraj as md\n",
    "import pip\n",
    "import itertools\n",
    "#import pytraj as pt\n",
    "from rdkit import Chem\n",
    "from rdkit.Chem import rdFMCS, MCS\n",
    "from rdkit.Chem import AllChem\n",
    "from rdkit.Chem.Draw import IPythonConsole \n",
    "from rdkit.Chem import Draw\n",
    "from rdkit import DataStructs\n",
    "from rdkit.Chem.Fingerprints import FingerprintMols\n",
    "from rdkit import RDLogger\n",
    "import logging\n",
    "import csv\n",
    "#import mdshare\n",
    "import pyemma\n",
    "import msmtools\n",
    "# for visualization of molecular structures:\n",
    "#import nglview\n",
    "#from nglview.player import TrajectoryPlayer\n",
    "from pyemma.util.contexts import settings"
   ]
  },
  {
   "cell_type": "code",
   "execution_count": 2,
   "metadata": {},
   "outputs": [],
   "source": [
    "#Loading data from the 20us. For the other force-fields load the appropriate centered trajectories\n",
    "pdb = md.load('/Volumes/Untitled/cMyc_Edinburgh/amberidp/output_41/amberidp.gro')\n",
    "#files = ['/home/michalis/c_Myc/Heller_402-412_F4/output/traj_all.dcd']\n",
    "files = glob.glob('/Volumes/Untitled/cMyc_Edinburgh/amberidp/output_*/centered.cattraj.xtc')"
   ]
  },
  {
   "cell_type": "code",
   "execution_count": 3,
   "metadata": {},
   "outputs": [
    {
     "ename": "AttributeError",
     "evalue": "'MDFeaturizer' object has no attribute 'add'",
     "output_type": "error",
     "traceback": [
      "\u001b[0;31m---------------------------------------------------------------------------\u001b[0m",
      "\u001b[0;31mAttributeError\u001b[0m                            Traceback (most recent call last)",
      "\u001b[0;32m<ipython-input-3-4755ed234c36>\u001b[0m in \u001b[0;36m<module>\u001b[0;34m\u001b[0m\n\u001b[1;32m      6\u001b[0m     \u001b[0mind_arr\u001b[0m\u001b[0;34m[\u001b[0m\u001b[0mi\u001b[0m\u001b[0;34m]\u001b[0m\u001b[0;34m[\u001b[0m\u001b[0;36m0\u001b[0m\u001b[0;34m]\u001b[0m \u001b[0;34m=\u001b[0m \u001b[0mF4_ind\u001b[0m\u001b[0;34m-\u001b[0m\u001b[0;36m1\u001b[0m\u001b[0;34m\u001b[0m\u001b[0;34m\u001b[0m\u001b[0m\n\u001b[1;32m      7\u001b[0m     \u001b[0mind_arr\u001b[0m\u001b[0;34m[\u001b[0m\u001b[0mi\u001b[0m\u001b[0;34m]\u001b[0m\u001b[0;34m[\u001b[0m\u001b[0;36m1\u001b[0m\u001b[0;34m]\u001b[0m \u001b[0;34m=\u001b[0m \u001b[0mi\u001b[0m\u001b[0;34m+\u001b[0m\u001b[0;36m1\u001b[0m\u001b[0;34m\u001b[0m\u001b[0;34m\u001b[0m\u001b[0m\n\u001b[0;32m----> 8\u001b[0;31m \u001b[0mshort_dist_feat\u001b[0m\u001b[0;34m.\u001b[0m\u001b[0madd\u001b[0m\u001b[0;34m(\u001b[0m\u001b[0mresidue_pairs\u001b[0m\u001b[0;34m=\u001b[0m\u001b[0mind_arr\u001b[0m\u001b[0;34m,\u001b[0m \u001b[0mscheme\u001b[0m\u001b[0;34m=\u001b[0m\u001b[0;34m'closest-heavy'\u001b[0m\u001b[0;34m,\u001b[0m \u001b[0mthreshold\u001b[0m\u001b[0;34m=\u001b[0m\u001b[0;36m0.4\u001b[0m\u001b[0;34m)\u001b[0m\u001b[0;34m\u001b[0m\u001b[0;34m\u001b[0m\u001b[0m\n\u001b[0m\u001b[1;32m      9\u001b[0m \u001b[0;34m\u001b[0m\u001b[0m\n\u001b[1;32m     10\u001b[0m \u001b[0mshort_dist_data\u001b[0m \u001b[0;34m=\u001b[0m \u001b[0mpyemma\u001b[0m\u001b[0;34m.\u001b[0m\u001b[0mcoordinates\u001b[0m\u001b[0;34m.\u001b[0m\u001b[0mload\u001b[0m\u001b[0;34m(\u001b[0m\u001b[0mfiles\u001b[0m\u001b[0;34m,\u001b[0m \u001b[0mfeatures\u001b[0m\u001b[0;34m=\u001b[0m\u001b[0mshort_dist_feat\u001b[0m\u001b[0;34m)\u001b[0m\u001b[0;34m\u001b[0m\u001b[0;34m\u001b[0m\u001b[0m\n",
      "\u001b[0;31mAttributeError\u001b[0m: 'MDFeaturizer' object has no attribute 'add'"
     ]
    }
   ],
   "source": [
    "short_dist_feat = pyemma.coordinates.featurizer(pdb)\n",
    "n_res = 11 # number of residues\n",
    "F4_ind = 1 # benzamidine index (with residues starting at 1)\n",
    "ind_arr = np.zeros((n_res,2))\n",
    "for i in range(n_res):\n",
    "    ind_arr[i][0] = F4_ind-1\n",
    "    ind_arr[i][1] = i+1\n",
    "short_dist_feat.add(residue_pairs=ind_arr, scheme='closest-heavy', threshold=0.4)\n",
    "\n",
    "short_dist_data = pyemma.coordinates.load(files, features=short_dist_feat)\n",
    "\n",
    "short_dist_feat.describe()"
   ]
  },
  {
   "cell_type": "code",
   "execution_count": null,
   "metadata": {},
   "outputs": [],
   "source": [
    "#first and second metrics (use short_dist instead of two distances to build the appropriate MSM)\n",
    "selection_ca = short_dist_feat.select_Ca()\n",
    "selection_N = short_dist_feat.select(\"resname 'LIG' and type 'N'\")\n",
    "\n",
    "ind_arr = np.zeros((n_res,2))\n",
    "for i in range(n_res):\n",
    "    ind_arr[i][0] =selection_ca[i]\n",
    "    ind_arr[i][1] = selection_N[0]\n",
    "\n",
    "short_dist_feat.add_distances(ind_arr.astype('int64'), periodic=True)\n",
    "short_dist_feat.describe()\n",
    "\n",
    "short_dist_data = pyemma.coordinates.load(files, features=short_dist_feat)"
   ]
  },
  {
   "cell_type": "code",
   "execution_count": 4,
   "metadata": {},
   "outputs": [
    {
     "data": {
      "text/plain": [
       "array([0, 5])"
      ]
     },
     "execution_count": 4,
     "metadata": {},
     "output_type": "execute_result"
    }
   ],
   "source": [
    "#third metric\n",
    "two_dist_feat = pyemma.coordinates.featurizer(pdb)\n",
    "selection_ca = two_dist_feat.select_Ca()\n",
    "selection_2_distances = two_dist_feat.select(\"resname 'LIG' and index 0 or resname 'LIG' and type 'N'\")\n",
    "selection_2_distances"
   ]
  },
  {
   "cell_type": "code",
   "execution_count": 8,
   "metadata": {},
   "outputs": [],
   "source": [
    "#I must change the selection to update ind_arr_2_distances first with 0 and then with 1\n",
    "ind_arr_2_distances = np.zeros((n_res,2))\n",
    "for i in range(n_res):\n",
    "    ind_arr_2_distances[i][0] =selection_ca[i]\n",
    "    ind_arr_2_distances[i][1] = selection_2_distances[0]"
   ]
  },
  {
   "cell_type": "code",
   "execution_count": 9,
   "metadata": {},
   "outputs": [
    {
     "data": {
      "text/plain": [
       "['DIST: TYR 1 CA 31 - LIG 12 N6 5',\n",
       " 'DIST: ILE 2 CA 52 - LIG 12 N6 5',\n",
       " 'DIST: LEU 3 CA 71 - LIG 12 N6 5',\n",
       " 'DIST: SER 4 CA 90 - LIG 12 N6 5',\n",
       " 'DIST: VAL 5 CA 101 - LIG 12 N6 5',\n",
       " 'DIST: GLN 6 CA 117 - LIG 12 N6 5',\n",
       " 'DIST: ALA 7 CA 134 - LIG 12 N6 5',\n",
       " 'DIST: GLU 8 CA 144 - LIG 12 N6 5',\n",
       " 'DIST: GLU 9 CA 159 - LIG 12 N6 5',\n",
       " 'DIST: GLN 10 CA 174 - LIG 12 N6 5',\n",
       " 'DIST: LYS 11 CA 191 - LIG 12 N6 5',\n",
       " 'DIST: TYR 1 CA 31 - LIG 12 C1 0',\n",
       " 'DIST: ILE 2 CA 52 - LIG 12 C1 0',\n",
       " 'DIST: LEU 3 CA 71 - LIG 12 C1 0',\n",
       " 'DIST: SER 4 CA 90 - LIG 12 C1 0',\n",
       " 'DIST: VAL 5 CA 101 - LIG 12 C1 0',\n",
       " 'DIST: GLN 6 CA 117 - LIG 12 C1 0',\n",
       " 'DIST: ALA 7 CA 134 - LIG 12 C1 0',\n",
       " 'DIST: GLU 8 CA 144 - LIG 12 C1 0',\n",
       " 'DIST: GLU 9 CA 159 - LIG 12 C1 0',\n",
       " 'DIST: GLN 10 CA 174 - LIG 12 C1 0',\n",
       " 'DIST: LYS 11 CA 191 - LIG 12 C1 0']"
      ]
     },
     "execution_count": 9,
     "metadata": {},
     "output_type": "execute_result"
    }
   ],
   "source": [
    "two_dist_feat.add_distances(ind_arr_2_distances.astype('int64'), periodic=True)\n",
    "two_dist_feat.describe()"
   ]
  },
  {
   "cell_type": "code",
   "execution_count": 10,
   "metadata": {},
   "outputs": [
    {
     "data": {
      "application/vnd.jupyter.widget-view+json": {
       "model_id": "",
       "version_major": 2,
       "version_minor": 0
      },
      "text/plain": [
       "HBox(children=(HBox(children=(Label(value='Obtaining file info'),), layout=Layout(max_width='35%', min_width='…"
      ]
     },
     "metadata": {},
     "output_type": "display_data"
    },
    {
     "name": "stdout",
     "output_type": "stream",
     "text": [
      "\r"
     ]
    },
    {
     "data": {
      "application/vnd.jupyter.widget-view+json": {
       "model_id": "",
       "version_major": 2,
       "version_minor": 0
      },
      "text/plain": [
       "HBox(children=(HBox(children=(Label(value='getting output of FeatureReader'),), layout=Layout(max_width='35%',…"
      ]
     },
     "metadata": {},
     "output_type": "display_data"
    },
    {
     "name": "stdout",
     "output_type": "stream",
     "text": [
      "\r"
     ]
    },
    {
     "data": {
      "text/plain": [
       "(20, 100010, 22)"
      ]
     },
     "execution_count": 10,
     "metadata": {},
     "output_type": "execute_result"
    }
   ],
   "source": [
    "two_dist_data = pyemma.coordinates.load(files, features=two_dist_feat)\n",
    "np.shape(two_dist_data)"
   ]
  },
  {
   "cell_type": "code",
   "execution_count": 11,
   "metadata": {},
   "outputs": [
    {
     "data": {
      "image/png": "[encoded data removed]",
      "text/plain": [
       "<Figure size 432x288 with 1 Axes>"
      ]
     },
     "metadata": {
      "needs_background": "light"
     },
     "output_type": "display_data"
    }
   ],
   "source": [
    "#plot(new_data[0])\n",
    "\n",
    "shortest_dist_two_dist = []\n",
    "for traj in two_dist_data:\n",
    "    new_traj_two_dist = [] # you need every time to refresh your list\n",
    "    for snapshot in traj:\n",
    "        new_traj_two_dist.append(min(snapshot)*10) # we are taking the minimum distance every time (multiplied by 10 to convert ns to A)\n",
    "    shortest_dist_two_dist.append(np.array(new_traj_two_dist)) # saved as np array\n",
    "    #first_dims.append(item[0])\n",
    "#len(first_dims)\n",
    "#len(new_data)\n",
    "fig = plt.hist(shortest_dist_two_dist[9], bins=100)"
   ]
  },
  {
   "cell_type": "markdown",
   "metadata": {},
   "source": [
    "# First metric"
   ]
  },
  {
   "cell_type": "code",
   "execution_count": null,
   "metadata": {},
   "outputs": [],
   "source": [
    "short_dist_tica = pyemma.coordinates.tica(short_dist_data, lag=50, units='ps' )\n",
    "short_dist_tica_output = short_dist_tica.get_output()\n",
    "print(short_dist_tica_output)\n",
    "short_dist_tica_concatenated = np.concatenate(short_dist_tica_output)\n",
    "\n",
    "short_dist_tica.dimension()"
   ]
  },
  {
   "cell_type": "code",
   "execution_count": null,
   "metadata": {},
   "outputs": [],
   "source": [
    "fig, axes = plt.subplots(1, 3, figsize=(12, 3))\n",
    "pyemma.plots.plot_feature_histograms(\n",
    "    short_dist_tica_concatenated, ['IC {}'.format(i + 1) for i in range(short_dist_tica.dimension())], ax=axes[0])\n",
    "pyemma.plots.plot_density(*short_dist_tica_concatenated.T[0:2], ax=axes[1], cbar=False, logscale=True)\n",
    "pyemma.plots.plot_free_energy(*short_dist_tica_concatenated.T[0:2], ax=axes[2], legacy=False)\n",
    "for ax in axes.flat[1:]:\n",
    "    ax.set_xlabel('IC 1')\n",
    "    ax.set_ylabel('IC 2')\n",
    "fig.tight_layout()"
   ]
  },
  {
   "cell_type": "code",
   "execution_count": null,
   "metadata": {},
   "outputs": [],
   "source": [
    "#clustering for the tica output\n",
    "short_dist_cluster_tica = pyemma.coordinates.cluster_kmeans(\n",
    "    short_dist_tica_output, k=75, max_iter=100, stride=1, fixed_seed=1)\n",
    "short_dist_dtrajs_concatenated = np.concatenate(short_dist_cluster_tica.dtrajs)\n",
    "\n",
    "#implied timescales for tica\n",
    "\n",
    "#pyemma.plots.plot_implied_timescales(its, units='ps', dt=0.1);\n",
    "\n",
    "fig, axes = plt.subplots(1, 3, figsize=(12, 3))\n",
    "pyemma.plots.plot_feature_histograms(\n",
    "    np.concatenate(short_dist_tica_output), ax=axes[0])\n",
    "pyemma.plots.plot_density(*short_dist_tica_concatenated.T[0:2], ax=axes[1], cbar=False, alpha=0.1)\n",
    "axes[1].scatter(*short_dist_cluster_tica.clustercenters.T[:2], s=15, c='C1')\n",
    "axes[1].set_xlabel('$IC1$')\n",
    "axes[1].set_ylabel('$IC2$')\n",
    "pyemma.plots.plot_implied_timescales(short_dist_its, ax=axes[2], units='ps', ylog=False)\n",
    "fig.tight_layout()"
   ]
  },
  {
   "cell_type": "code",
   "execution_count": null,
   "metadata": {},
   "outputs": [],
   "source": [
    "short_dist_its = pyemma.msm.its(short_dist_cluster_tica.dtrajs, lags=200, nits=10)\n",
    "pyemma.plots.plot_implied_timescales(short_dist_its, units='ps', dt=10);\n",
    "plt.savefig(\"ITS_amberidp_all_distances.png\",dpi=600,transparent=True, bbox_inches='tight')"
   ]
  },
  {
   "cell_type": "code",
   "execution_count": null,
   "metadata": {},
   "outputs": [],
   "source": [
    "#msm markov model estimation\n",
    "short_dist_msm_tica = pyemma.msm.bayesian_markov_model(short_dist_cluster_tica.dtrajs, lag=50, dt_traj='10 ps')\n",
    "print('fraction of states used = {:.2f}'.format(short_dist_msm_tica.active_state_fraction))\n",
    "print('fraction of counts used = {:.2f}'.format(short_dist_msm_tica.active_count_fraction))"
   ]
  },
  {
   "cell_type": "code",
   "execution_count": null,
   "metadata": {},
   "outputs": [],
   "source": [
    "# Chapman-Kolmogorov test\n",
    "#Should a CK test fail, it means that the dynamics in the space of metastable states is not Markovian.\n",
    "#A failing CK test might further hint at poor sampling.\n",
    "pyemma.plots.plot_cktest(two_dist_msm.cktest(2), units='ps', y01=False, padding_top=0.08);\n",
    "#as we can see 4 metastable states is a good number of states\n",
    "plt.savefig(\"CK_amberidp_all_distances.png\",dpi=600,transparent=True, bbox_inches='tight')"
   ]
  },
  {
   "cell_type": "code",
   "execution_count": null,
   "metadata": {},
   "outputs": [],
   "source": [
    "#If there were any disconnectivities in our data (fractions <1), we could access the indices of the active states (members of the largest connected set) via the active_set attribute\n",
    "print(short_dist_msm_tica.active_set)\n",
    "\n",
    "#With this potential issue out of the way, we can extract our first (stationary/thermodynamic) property, the stationary_distribution or, as a shortcut, pi:\n",
    "print(short_dist_msm_tica.stationary_distribution)\n",
    "print('sum of weights = {:f}'.format(short_dist_msm_tica.pi.sum()))\n",
    "\n",
    "#first eigenvector must be 1\n",
    "short_dist_eigvec = short_dist_msm_tica.eigenvectors_right()\n",
    "print('first eigenvector is one: {} (min={}, max={})'.format(\n",
    "    np.allclose(short_dist_eigvec[:, 0], 1, atol=1e-15), short_dist_eigvec[:, 0].min(), short_dist_eigvec[:, 0].max()))"
   ]
  },
  {
   "cell_type": "code",
   "execution_count": null,
   "metadata": {},
   "outputs": [],
   "source": [
    "# We perform PCCA++ with this number of states for further analysis and print out the stationary probabilities of the metastable sets:\n",
    "nstates = 2\n",
    "short_dist_msm_tica.pcca(nstates)\n",
    "\n",
    "fig, axes = plt.subplots(1, 2, figsize=(12, 3))\n",
    "for i, ax in enumerate(axes.flat):\n",
    "    pyemma.plots.plot_contour(\n",
    "        *short_dist_tica_concatenated.T[:2],\n",
    "        short_dist_msm_tica.metastable_distributions[i][short_dist_dtrajs_concatenated],\n",
    "        ax=ax,\n",
    "        cmap='afmhot_r', \n",
    "        mask=True,\n",
    "        cbar_label='metastable distribution {}'.format(i + 1))\n",
    "    ax.set_xlabel('$\\Phi$')\n",
    "axes[0].set_ylabel('$\\Psi$')\n",
    "fig.tight_layout()"
   ]
  },
  {
   "cell_type": "code",
   "execution_count": null,
   "metadata": {},
   "outputs": [],
   "source": [
    "for i, s in enumerate(short_dist_msm_tica.metastable_sets):\n",
    "    print('π_{} = {:f}'.format(i + 1, short_dist_msm_tica.pi[s].sum()))\n",
    "    \n",
    "short_dist_mfpt = np.zeros((nstates, nstates))\n",
    "for i in range(nstates):\n",
    "    for j in range(nstates):\n",
    "        short_dist_mfpt[i, j] = short_dist_msm_tica.mfpt(\n",
    "            short_dist_msm_tica.metastable_sets[i],\n",
    "            short_dist_msm_tica.metastable_sets[j])\n",
    "\n",
    "short_dist_inverse_mfpt = np.zeros_like(short_dist_mfpt)\n",
    "short_dist_nz = short_dist_mfpt.nonzero()\n",
    "short_dist_inverse_mfpt[short_dist_nz] = 1.0 / short_dist_mfpt[short_dist_nz]\n",
    "\n",
    "from pandas import DataFrame\n",
    "print('MFPT / steps:')\n",
    "DataFrame(np.round(short_dist_mfpt, decimals=2), index=range(1, nstates + 1), columns=range(1, nstates + 1))"
   ]
  },
  {
   "cell_type": "code",
   "execution_count": null,
   "metadata": {},
   "outputs": [],
   "source": [
    "short_dist_metastable_traj = short_dist_msm_tica.metastable_assignments[short_dist_dtrajs_concatenated]\n",
    "short_dist_highest_membership = short_dist_msm_tica.metastable_distributions.argmax(1)\n",
    "short_dist_coarse_state_centers = short_dist_cluster_tica.clustercenters[short_dist_msm_tica.active_set[short_dist_highest_membership]]\n"
   ]
  },
  {
   "cell_type": "code",
   "execution_count": null,
   "metadata": {},
   "outputs": [],
   "source": [
    "#We assume based on the diagram that the bound state is the second one, because we have fewer populations\n",
    "metastability = short_dist_msm_tica.pcca(2)\n",
    "\n",
    "#These are the indexes of the second population\n",
    "indexes = metastability.metastable_sets\n",
    "\n",
    "#Loop to calculate the average free energy of the unbound states(by using -kT log(stationary distribution))\n",
    "k = 0.0019872041\n",
    "T = 298.15\n",
    "unbound_pis = []\n",
    "for x in metastability.metastable_sets[0]:\n",
    "    unbound_pis.append(two_dist_msm.stationary_distribution[x])\n",
    "    #print(short_dist_msm_tica.stationary_distribution[x])    \n",
    "    #overal_free_energy_unbound = -k*T*np.unbound_pis\n",
    "\n",
    "free_energy_unbound = -k*T*np.log(unbound_pis)\n",
    "average_unbound = np.mean(free_energy_unbound)\n",
    "print(average_unbound)\n",
    "\n",
    "#Find the ratio of each bound state versus the overall of the unbound energy\n",
    "bound_states = []\n",
    "free_energy_bound_states = []\n",
    "for i in metastability.metastable_sets[1]:\n",
    "    bound_states.append(two_dist_msm.stationary_distribution[i])\n",
    "\n",
    "free_energy_bound_states = -k*T*np.log(bound_states)\n",
    "average_bound = np.mean(free_energy_bound_states)\n",
    "#ratio_bound_unbound = free_energy_bound_states / free_energy_unbound\n",
    "print(average_bound)\n",
    "\n",
    "\n",
    "overall_unbound = np.sum(unbound_pis)\n",
    "print(overall_unbound)\n",
    "overall_bound = np.sum(bound_states)\n",
    "print(overall_bound)\n",
    "ratio = -k*T*np.log(overall_bound / overall_unbound)\n",
    "ratio"
   ]
  },
  {
   "cell_type": "markdown",
   "metadata": {},
   "source": [
    "# Second metric"
   ]
  },
  {
   "cell_type": "code",
   "execution_count": null,
   "metadata": {},
   "outputs": [],
   "source": [
    "#plot(new_data[0])\n",
    "\n",
    "shortest_dist = []\n",
    "for traj in short_dist_data:\n",
    "    new_traj = [] # you need every time to refresh your list\n",
    "    for snapshot in traj:\n",
    "        new_traj.append(min(snapshot)*10) # we are taking the minimum distance every time (multiplied by 10 to convert ns to A)\n",
    "    shortest_dist.append(np.array(new_traj)) # saved as np array\n",
    "    #first_dims.append(item[0])"
   ]
  },
  {
   "cell_type": "code",
   "execution_count": null,
   "metadata": {},
   "outputs": [],
   "source": [
    "#clustering for the tica output\n",
    "short_dist_cluster = pyemma.coordinates.cluster_kmeans(\n",
    "    shortest_dist, k=75, stride=1, fixed_seed=0)\n",
    "\n",
    "#mplied timescales for tica\n",
    "short_dist_its = pyemma.msm.its(short_dist_cluster.dtrajs, lags=200, nits=10)\n",
    "pyemma.plots.plot_implied_timescales(short_dist_its, units='ps', dt=10);\n",
    "plt.savefig(\"ITS_amberidp_shortest_distance.png\",dpi=600,transparent=True, bbox_inches='tight')\n",
    "\n",
    "#msm markov model estimation\n",
    "short_dist_msm_tica = pyemma.msm.bayesian_markov_model(short_dist_cluster.dtrajs, lag=200, dt_traj='10 ps')\n",
    "print('fraction of states used = {:.2f}'.format(short_dist_msm_tica.active_state_fraction))\n",
    "print('fraction of counts used = {:.2f}'.format(short_dist_msm_tica.active_count_fraction))\n",
    "\n",
    "#Chapman-Kolmogorov test\n",
    "#Should a CK test fail, it means that the dynamics in the space of metastable states is not Markovian.\n",
    "#A failing CK test might further hint at poor sampling.\n",
    "pyemma.plots.plot_cktest(short_dist_msm_tica.cktest(2), units='ps', y01=False, padding_top=0.08);\n",
    "#as we can see 4 metastable states is a good number of states\n",
    "plt.savefig(\"CK_amberidp_shortest_distance.png\",dpi=600,transparent=True, bbox_inches='tight')\n",
    "\n",
    "#If there were any disconnectivities in our data (fractions <1), we could access the indices of the active states (members of the largest connected set) via the active_set attribute\n",
    "print(short_dist_msm_tica.active_set)\n",
    "\n",
    "#With this potential issue out of the way, we can extract our first (stationary/thermodynamic) property, the stationary_distribution or, as a shortcut, pi:\n",
    "print(short_dist_msm_tica.stationary_distribution)\n",
    "print('sum of weights = {:f}'.format(short_dist_msm_tica.pi.sum()))\n",
    "\n",
    "#first eigenvector must be 1\n",
    "short_dist_eigvec = short_dist_msm_tica.eigenvectors_right()\n",
    "print('first eigenvector is one: {} (min={}, max={})'.format(\n",
    "    np.allclose(short_dist_eigvec[:, 0], 1, atol=1e-15), short_dist_eigvec[:, 0].min(), short_dist_eigvec[:, 0].max()))"
   ]
  },
  {
   "cell_type": "code",
   "execution_count": null,
   "metadata": {},
   "outputs": [],
   "source": [
    "# We perform PCCA++ with this number of states for further analysis and print out the stationary probabilities of the metastable sets:\n",
    "nstates = 2\n",
    "short_dist_msm_tica.pcca(nstates)\n",
    "\n",
    "for i, s in enumerate(short_dist_msm_tica.metastable_sets):\n",
    "    print('π_{} = {:f}'.format(i + 1, short_dist_msm_tica.pi[s].sum()))\n",
    "    \n",
    "short_dist_mfpt = np.zeros((nstates, nstates))\n",
    "for i in range(nstates):\n",
    "    for j in range(nstates):\n",
    "        short_dist_mfpt[i, j] = short_dist_msm_tica.mfpt(\n",
    "            short_dist_msm_tica.metastable_sets[i],\n",
    "            short_dist_msm_tica.metastable_sets[j])\n",
    "\n",
    "short_dist_inverse_mfpt = np.zeros_like(short_dist_mfpt)\n",
    "short_dist_nz = short_dist_mfpt.nonzero()\n",
    "short_dist_inverse_mfpt[short_dist_nz] = 1.0 / short_dist_mfpt[short_dist_nz]\n",
    "\n",
    "from pandas import DataFrame\n",
    "print('MFPT / steps:')\n",
    "DataFrame(np.round(short_dist_mfpt, decimals=2), index=range(1, nstates + 1), columns=range(1, nstates + 1))"
   ]
  },
  {
   "cell_type": "code",
   "execution_count": null,
   "metadata": {},
   "outputs": [],
   "source": [
    "#We assume based on the diagram that the bound state is the second one, because we have fewer populations\n",
    "metastability = short_dist_msm.pcca(2)\n",
    "print(metastability)\n",
    "\n",
    "#These are the indexes of the second population\n",
    "indexes = metastability.metastable_sets"
   ]
  },
  {
   "cell_type": "code",
   "execution_count": null,
   "metadata": {},
   "outputs": [],
   "source": [
    "#Loop to calculate the average free energy of the unbound states(by using -kT log(stationary distribution))\n",
    "k = 0.0019872041\n",
    "T = 298.15\n",
    "unbound_pis = []\n",
    "for x in metastability.metastable_sets[0]:\n",
    "    unbound_pis.append(short_dist_msm.stationary_distribution[x])\n",
    "    #print(short_dist_msm_tica.stationary_distribution[x])    \n",
    "    #overal_free_energy_unbound = -k*T*np.unbound_pis\n",
    "\n",
    "free_energy_unbound = -k*T*np.log(unbound_pis)\n",
    "average_unbound = np.mean(free_energy_unbound)\n",
    "print(average_unbound)\n",
    "\n",
    "#Find the ratio of each bound state versus the overall of the unbound energy\n",
    "bound_states = []\n",
    "free_energy_bound_states = []\n",
    "for i in metastability.metastable_sets[1]:\n",
    "    bound_states.append(short_dist_msm.stationary_distribution[i])\n",
    "\n",
    "free_energy_bound_states = -k*T*np.log(bound_states)\n",
    "average_bound = np.mean(free_energy_bound_states)\n",
    "#ratio_bound_unbound = free_energy_bound_states / free_energy_unbound\n",
    "print(average_bound)\n",
    "\n",
    "\n",
    "overall_unbound = np.sum(unbound_pis)\n",
    "print(overall_unbound)\n",
    "overall_bound = np.sum(bound_states)\n",
    "print(overall_bound)\n",
    "ratio = -k*T*np.log(overall_bound / overall_unbound)\n",
    "ratio"
   ]
  },
  {
   "cell_type": "code",
   "execution_count": null,
   "metadata": {},
   "outputs": [],
   "source": [
    "bound = []\n",
    "unbound = []\n",
    "cc = short_dist_cluster.clustercenters\n",
    "for i in range(len(short_dist_msm.metastable_assignments)):\n",
    "    if short_dist_msm.metastable_assignments[i] == 1:\n",
    "        unbound.append(cc[i])\n",
    "    else:\n",
    "        bound.append(cc[i])\n",
    "\n",
    "        \n",
    "print(max(bound))\n",
    "print(min(unbound))"
   ]
  },
  {
   "cell_type": "code",
   "execution_count": null,
   "metadata": {},
   "outputs": [],
   "source": [
    "pcca_samples = short_dist_msm.sample_by_state(50, subset = C)\n",
    "short_dist = pyemma.coordinates.source(files, features=short_dist_feat)\n",
    "print(pcca_samples)\n",
    "pyemma.coordinates.save_trajs(\n",
    "    short_dist,\n",
    "    pcca_samples,\n",
    "    prefix = 'amberidp_short_dist_1000_snapshots',\n",
    "    fmt = 'dcd')"
   ]
  },
  {
   "cell_type": "markdown",
   "metadata": {},
   "source": [
    "# Third metric"
   ]
  },
  {
   "cell_type": "code",
   "execution_count": 37,
   "metadata": {},
   "outputs": [
    {
     "data": {
      "application/vnd.jupyter.widget-view+json": {
       "model_id": "",
       "version_major": 2,
       "version_minor": 0
      },
      "text/plain": [
       "HBox(children=(HBox(children=(Label(value='initialize kmeans++ centers'),), layout=Layout(max_width='35%', min…"
      ]
     },
     "metadata": {},
     "output_type": "display_data"
    },
    {
     "data": {
      "application/vnd.jupyter.widget-view+json": {
       "model_id": "",
       "version_major": 2,
       "version_minor": 0
      },
      "text/plain": [
       "HBox(children=(HBox(children=(Label(value='kmeans iterations'),), layout=Layout(max_width='35%', min_width='35…"
      ]
     },
     "metadata": {},
     "output_type": "display_data"
    },
    {
     "name": "stdout",
     "output_type": "stream",
     "text": [
      "26-06-24 03:06:31 pyemma.coordinates.clustering.kmeans.KmeansClustering[21] WARNING  Algorithm did not reach convergence criterion of 1e-05 in 10 iterations. Consider increasing max_iter.\n"
     ]
    },
    {
     "data": {
      "application/vnd.jupyter.widget-view+json": {
       "model_id": "",
       "version_major": 2,
       "version_minor": 0
      },
      "text/plain": [
       "HBox(children=(HBox(children=(Label(value='getting output of KmeansClustering'),), layout=Layout(max_width='35…"
      ]
     },
     "metadata": {},
     "output_type": "display_data"
    },
    {
     "name": "stdout",
     "output_type": "stream",
     "text": [
      "\r"
     ]
    },
    {
     "data": {
      "application/vnd.jupyter.widget-view+json": {
       "model_id": "",
       "version_major": 2,
       "version_minor": 0
      },
      "text/plain": [
       "HBox(children=(HBox(children=(Label(value='estimating MaximumLikelihoodMSM'),), layout=Layout(max_width='35%',…"
      ]
     },
     "metadata": {},
     "output_type": "display_data"
    },
    {
     "name": "stdout",
     "output_type": "stream",
     "text": [
      "\r"
     ]
    },
    {
     "data": {
      "image/png": "[encoded data removed]",
      "text/plain": [
       "<Figure size 432x288 with 1 Axes>"
      ]
     },
     "metadata": {
      "needs_background": "light"
     },
     "output_type": "display_data"
    }
   ],
   "source": [
    "two_dist_cluster = pyemma.coordinates.cluster_kmeans(\n",
    "    shortest_dist_two_dist, k=75, stride=1, fixed_seed=0)\n",
    "\n",
    "#mplied timescales for tica\n",
    "two_dist_its = pyemma.msm.its(two_dist_cluster.dtrajs, lags=200, nits=10)\n",
    "pyemma.plots.plot_implied_timescales(two_dist_its, units='ps', dt=10);\n",
    "plt.savefig(\"ITS_amberidp_2_distances.png\",dpi=600,transparent=True, bbox_inches='tight')"
   ]
  },
  {
   "cell_type": "code",
   "execution_count": 38,
   "metadata": {},
   "outputs": [
    {
     "data": {
      "application/vnd.jupyter.widget-view+json": {
       "model_id": "",
       "version_major": 2,
       "version_minor": 0
      },
      "text/plain": [
       "HBox(children=(HBox(children=(Label(value='pyemma.msm.estimators.bayesian_msm.BayesianMSM[25]: compute stat. i…"
      ]
     },
     "metadata": {},
     "output_type": "display_data"
    },
    {
     "name": "stdout",
     "output_type": "stream",
     "text": [
      "\r"
     ]
    },
    {
     "data": {
      "application/vnd.jupyter.widget-view+json": {
       "model_id": "",
       "version_major": 2,
       "version_minor": 0
      },
      "text/plain": [
       "HBox(children=(HBox(children=(Label(value='pyemma.msm.estimators.bayesian_msm.BayesianMSM[25]: Sampling MSMs')…"
      ]
     },
     "metadata": {},
     "output_type": "display_data"
    },
    {
     "name": "stdout",
     "output_type": "stream",
     "text": [
      "\r",
      "fraction of states used = 1.00\n",
      "fraction of counts used = 1.00\n"
     ]
    }
   ],
   "source": [
    "#msm markov model estimation\n",
    "two_dist_msm = pyemma.msm.bayesian_markov_model(two_dist_cluster.dtrajs, lag=200, dt_traj='10 ps')\n",
    "print('fraction of states used = {:.2f}'.format(two_dist_msm.active_state_fraction))\n",
    "print('fraction of counts used = {:.2f}'.format(two_dist_msm.active_count_fraction))"
   ]
  },
  {
   "cell_type": "code",
   "execution_count": 14,
   "metadata": {},
   "outputs": [
    {
     "data": {
      "application/vnd.jupyter.widget-view+json": {
       "model_id": "",
       "version_major": 2,
       "version_minor": 0
      },
      "text/plain": [
       "HBox(children=(HBox(children=(Label(value='estimating BayesianMSM'),), layout=Layout(max_width='35%', min_widt…"
      ]
     },
     "metadata": {},
     "output_type": "display_data"
    },
    {
     "name": "stdout",
     "output_type": "stream",
     "text": [
      "\r"
     ]
    },
    {
     "ename": "KeyboardInterrupt",
     "evalue": "",
     "output_type": "error",
     "traceback": [
      "\u001b[0;31m---------------------------------------------------------------------------\u001b[0m",
      "\u001b[0;31mKeyboardInterrupt\u001b[0m                         Traceback (most recent call last)",
      "\u001b[0;32m<ipython-input-14-d62bf8dbabc0>\u001b[0m in \u001b[0;36m<module>\u001b[0;34m\u001b[0m\n\u001b[1;32m      3\u001b[0m \u001b[0;31m#Should a CK test fail, it means that the dynamics in the space of metastable states is not Markovian.\u001b[0m\u001b[0;34m\u001b[0m\u001b[0;34m\u001b[0m\u001b[0;34m\u001b[0m\u001b[0m\n\u001b[1;32m      4\u001b[0m \u001b[0;31m#A failing CK test might further hint at poor sampling.\u001b[0m\u001b[0;34m\u001b[0m\u001b[0;34m\u001b[0m\u001b[0;34m\u001b[0m\u001b[0m\n\u001b[0;32m----> 5\u001b[0;31m \u001b[0mpyemma\u001b[0m\u001b[0;34m.\u001b[0m\u001b[0mplots\u001b[0m\u001b[0;34m.\u001b[0m\u001b[0mplot_cktest\u001b[0m\u001b[0;34m(\u001b[0m\u001b[0mtwo_dist_msm\u001b[0m\u001b[0;34m.\u001b[0m\u001b[0mcktest\u001b[0m\u001b[0;34m(\u001b[0m\u001b[0;36m2\u001b[0m\u001b[0;34m)\u001b[0m\u001b[0;34m,\u001b[0m \u001b[0munits\u001b[0m\u001b[0;34m=\u001b[0m\u001b[0;34m'ps'\u001b[0m\u001b[0;34m,\u001b[0m \u001b[0my01\u001b[0m\u001b[0;34m=\u001b[0m\u001b[0;32mFalse\u001b[0m\u001b[0;34m,\u001b[0m \u001b[0mpadding_top\u001b[0m\u001b[0;34m=\u001b[0m\u001b[0;36m0.08\u001b[0m\u001b[0;34m)\u001b[0m\u001b[0;34m;\u001b[0m\u001b[0;34m\u001b[0m\u001b[0;34m\u001b[0m\u001b[0m\n\u001b[0m\u001b[1;32m      6\u001b[0m \u001b[0;31m#as we can see 4 metastable states is a good number of states\u001b[0m\u001b[0;34m\u001b[0m\u001b[0;34m\u001b[0m\u001b[0;34m\u001b[0m\u001b[0m\n\u001b[1;32m      7\u001b[0m \u001b[0mplt\u001b[0m\u001b[0;34m.\u001b[0m\u001b[0msavefig\u001b[0m\u001b[0;34m(\u001b[0m\u001b[0;34m\"CK_amberidp_2_distances.png\"\u001b[0m\u001b[0;34m,\u001b[0m\u001b[0mdpi\u001b[0m\u001b[0;34m=\u001b[0m\u001b[0;36m600\u001b[0m\u001b[0;34m,\u001b[0m\u001b[0mtransparent\u001b[0m\u001b[0;34m=\u001b[0m\u001b[0;32mTrue\u001b[0m\u001b[0;34m,\u001b[0m \u001b[0mbbox_inches\u001b[0m\u001b[0;34m=\u001b[0m\u001b[0;34m'tight'\u001b[0m\u001b[0;34m)\u001b[0m\u001b[0;34m\u001b[0m\u001b[0;34m\u001b[0m\u001b[0m\n",
      "\u001b[0;32m~/anaconda3/lib/python3.7/site-packages/pyemma/msm/estimators/_msm_estimator_base.py\u001b[0m in \u001b[0;36mcktest\u001b[0;34m(self, nsets, memberships, mlags, conf, err_est, n_jobs, show_progress)\u001b[0m\n\u001b[1;32m    846\u001b[0m         ck = ChapmanKolmogorovValidator(self, self, memberships, mlags=mlags, conf=conf,\n\u001b[1;32m    847\u001b[0m                                         n_jobs=n_jobs, err_est=err_est, show_progress=show_progress)\n\u001b[0;32m--> 848\u001b[0;31m         \u001b[0mck\u001b[0m\u001b[0;34m.\u001b[0m\u001b[0mestimate\u001b[0m\u001b[0;34m(\u001b[0m\u001b[0mself\u001b[0m\u001b[0;34m.\u001b[0m\u001b[0m_dtrajs_full\u001b[0m\u001b[0;34m)\u001b[0m\u001b[0;34m\u001b[0m\u001b[0;34m\u001b[0m\u001b[0m\n\u001b[0m\u001b[1;32m    849\u001b[0m         \u001b[0;32mreturn\u001b[0m \u001b[0mck\u001b[0m\u001b[0;34m\u001b[0m\u001b[0;34m\u001b[0m\u001b[0m\n",
      "\u001b[0;32m~/anaconda3/lib/python3.7/site-packages/pyemma/_base/estimator.py\u001b[0m in \u001b[0;36mestimate\u001b[0;34m(self, X, **params)\u001b[0m\n\u001b[1;32m    405\u001b[0m         \u001b[0;32mif\u001b[0m \u001b[0mparams\u001b[0m\u001b[0;34m:\u001b[0m\u001b[0;34m\u001b[0m\u001b[0;34m\u001b[0m\u001b[0m\n\u001b[1;32m    406\u001b[0m             \u001b[0mself\u001b[0m\u001b[0;34m.\u001b[0m\u001b[0mset_params\u001b[0m\u001b[0;34m(\u001b[0m\u001b[0;34m**\u001b[0m\u001b[0mparams\u001b[0m\u001b[0;34m)\u001b[0m\u001b[0;34m\u001b[0m\u001b[0;34m\u001b[0m\u001b[0m\n\u001b[0;32m--> 407\u001b[0;31m         \u001b[0mself\u001b[0m\u001b[0;34m.\u001b[0m\u001b[0m_model\u001b[0m \u001b[0;34m=\u001b[0m \u001b[0mself\u001b[0m\u001b[0;34m.\u001b[0m\u001b[0m_estimate\u001b[0m\u001b[0;34m(\u001b[0m\u001b[0mX\u001b[0m\u001b[0;34m)\u001b[0m\u001b[0;34m\u001b[0m\u001b[0;34m\u001b[0m\u001b[0m\n\u001b[0m\u001b[1;32m    408\u001b[0m         \u001b[0;31m# ensure _estimate returned something\u001b[0m\u001b[0;34m\u001b[0m\u001b[0;34m\u001b[0m\u001b[0;34m\u001b[0m\u001b[0m\n\u001b[1;32m    409\u001b[0m         \u001b[0;32massert\u001b[0m \u001b[0mself\u001b[0m\u001b[0;34m.\u001b[0m\u001b[0m_model\u001b[0m \u001b[0;32mis\u001b[0m \u001b[0;32mnot\u001b[0m \u001b[0;32mNone\u001b[0m\u001b[0;34m\u001b[0m\u001b[0;34m\u001b[0m\u001b[0m\n",
      "\u001b[0;32m~/anaconda3/lib/python3.7/site-packages/pyemma/msm/estimators/lagged_model_validators.py\u001b[0m in \u001b[0;36m_estimate\u001b[0;34m(self, data)\u001b[0m\n\u001b[1;32m    150\u001b[0m         \u001b[0mestimated_models\u001b[0m\u001b[0;34m,\u001b[0m \u001b[0mestimators\u001b[0m \u001b[0;34m=\u001b[0m\u001b[0;31m \u001b[0m\u001b[0;31m\\\u001b[0m\u001b[0;34m\u001b[0m\u001b[0;34m\u001b[0m\u001b[0m\n\u001b[1;32m    151\u001b[0m             estimate_param_scan(self.test_estimator, data, pargrid, return_estimators=True, failfast=False,\n\u001b[0;32m--> 152\u001b[0;31m                                 progress_reporter=progress_reporter, n_jobs=self.n_jobs)\n\u001b[0m\u001b[1;32m    153\u001b[0m         \u001b[0;32mif\u001b[0m \u001b[0minclude0\u001b[0m\u001b[0;34m:\u001b[0m\u001b[0;34m\u001b[0m\u001b[0;34m\u001b[0m\u001b[0m\n\u001b[1;32m    154\u001b[0m             \u001b[0mestimated_models\u001b[0m \u001b[0;34m=\u001b[0m \u001b[0;34m[\u001b[0m\u001b[0;32mNone\u001b[0m\u001b[0;34m]\u001b[0m \u001b[0;34m+\u001b[0m \u001b[0mestimated_models\u001b[0m\u001b[0;34m\u001b[0m\u001b[0;34m\u001b[0m\u001b[0m\n",
      "\u001b[0;32m~/anaconda3/lib/python3.7/site-packages/pyemma/_base/estimator.py\u001b[0m in \u001b[0;36mestimate_param_scan\u001b[0;34m(estimator, X, param_sets, evaluate, evaluate_args, failfast, return_estimators, n_jobs, progress_reporter, show_progress, return_exceptions)\u001b[0m\n\u001b[1;32m    348\u001b[0m             res_async = [pool.apply_async(_estimate_param_scan_worker, a, callback=callback,\n\u001b[1;32m    349\u001b[0m                                           error_callback=error_callback) for a in args]\n\u001b[0;32m--> 350\u001b[0;31m             \u001b[0mres\u001b[0m \u001b[0;34m=\u001b[0m \u001b[0;34m[\u001b[0m\u001b[0mx\u001b[0m\u001b[0;34m.\u001b[0m\u001b[0mget\u001b[0m\u001b[0;34m(\u001b[0m\u001b[0;34m)\u001b[0m \u001b[0;32mfor\u001b[0m \u001b[0mx\u001b[0m \u001b[0;32min\u001b[0m \u001b[0mres_async\u001b[0m\u001b[0;34m]\u001b[0m\u001b[0;34m\u001b[0m\u001b[0;34m\u001b[0m\u001b[0m\n\u001b[0m\u001b[1;32m    351\u001b[0m \u001b[0;34m\u001b[0m\u001b[0m\n\u001b[1;32m    352\u001b[0m     \u001b[0;31m# if n_jobs=1 don't invoke the pool, but directly dispatch the iterator\u001b[0m\u001b[0;34m\u001b[0m\u001b[0;34m\u001b[0m\u001b[0;34m\u001b[0m\u001b[0m\n",
      "\u001b[0;32m~/anaconda3/lib/python3.7/site-packages/pyemma/_base/estimator.py\u001b[0m in \u001b[0;36m<listcomp>\u001b[0;34m(.0)\u001b[0m\n\u001b[1;32m    348\u001b[0m             res_async = [pool.apply_async(_estimate_param_scan_worker, a, callback=callback,\n\u001b[1;32m    349\u001b[0m                                           error_callback=error_callback) for a in args]\n\u001b[0;32m--> 350\u001b[0;31m             \u001b[0mres\u001b[0m \u001b[0;34m=\u001b[0m \u001b[0;34m[\u001b[0m\u001b[0mx\u001b[0m\u001b[0;34m.\u001b[0m\u001b[0mget\u001b[0m\u001b[0;34m(\u001b[0m\u001b[0;34m)\u001b[0m \u001b[0;32mfor\u001b[0m \u001b[0mx\u001b[0m \u001b[0;32min\u001b[0m \u001b[0mres_async\u001b[0m\u001b[0;34m]\u001b[0m\u001b[0;34m\u001b[0m\u001b[0;34m\u001b[0m\u001b[0m\n\u001b[0m\u001b[1;32m    351\u001b[0m \u001b[0;34m\u001b[0m\u001b[0m\n\u001b[1;32m    352\u001b[0m     \u001b[0;31m# if n_jobs=1 don't invoke the pool, but directly dispatch the iterator\u001b[0m\u001b[0;34m\u001b[0m\u001b[0;34m\u001b[0m\u001b[0;34m\u001b[0m\u001b[0m\n",
      "\u001b[0;32m~/anaconda3/lib/python3.7/site-packages/multiprocess/pool.py\u001b[0m in \u001b[0;36mget\u001b[0;34m(self, timeout)\u001b[0m\n\u001b[1;32m    649\u001b[0m \u001b[0;34m\u001b[0m\u001b[0m\n\u001b[1;32m    650\u001b[0m     \u001b[0;32mdef\u001b[0m \u001b[0mget\u001b[0m\u001b[0;34m(\u001b[0m\u001b[0mself\u001b[0m\u001b[0;34m,\u001b[0m \u001b[0mtimeout\u001b[0m\u001b[0;34m=\u001b[0m\u001b[0;32mNone\u001b[0m\u001b[0;34m)\u001b[0m\u001b[0;34m:\u001b[0m\u001b[0;34m\u001b[0m\u001b[0;34m\u001b[0m\u001b[0m\n\u001b[0;32m--> 651\u001b[0;31m         \u001b[0mself\u001b[0m\u001b[0;34m.\u001b[0m\u001b[0mwait\u001b[0m\u001b[0;34m(\u001b[0m\u001b[0mtimeout\u001b[0m\u001b[0;34m)\u001b[0m\u001b[0;34m\u001b[0m\u001b[0;34m\u001b[0m\u001b[0m\n\u001b[0m\u001b[1;32m    652\u001b[0m         \u001b[0;32mif\u001b[0m \u001b[0;32mnot\u001b[0m \u001b[0mself\u001b[0m\u001b[0;34m.\u001b[0m\u001b[0mready\u001b[0m\u001b[0;34m(\u001b[0m\u001b[0;34m)\u001b[0m\u001b[0;34m:\u001b[0m\u001b[0;34m\u001b[0m\u001b[0;34m\u001b[0m\u001b[0m\n\u001b[1;32m    653\u001b[0m             \u001b[0;32mraise\u001b[0m \u001b[0mTimeoutError\u001b[0m\u001b[0;34m\u001b[0m\u001b[0;34m\u001b[0m\u001b[0m\n",
      "\u001b[0;32m~/anaconda3/lib/python3.7/site-packages/multiprocess/pool.py\u001b[0m in \u001b[0;36mwait\u001b[0;34m(self, timeout)\u001b[0m\n\u001b[1;32m    646\u001b[0m \u001b[0;34m\u001b[0m\u001b[0m\n\u001b[1;32m    647\u001b[0m     \u001b[0;32mdef\u001b[0m \u001b[0mwait\u001b[0m\u001b[0;34m(\u001b[0m\u001b[0mself\u001b[0m\u001b[0;34m,\u001b[0m \u001b[0mtimeout\u001b[0m\u001b[0;34m=\u001b[0m\u001b[0;32mNone\u001b[0m\u001b[0;34m)\u001b[0m\u001b[0;34m:\u001b[0m\u001b[0;34m\u001b[0m\u001b[0;34m\u001b[0m\u001b[0m\n\u001b[0;32m--> 648\u001b[0;31m         \u001b[0mself\u001b[0m\u001b[0;34m.\u001b[0m\u001b[0m_event\u001b[0m\u001b[0;34m.\u001b[0m\u001b[0mwait\u001b[0m\u001b[0;34m(\u001b[0m\u001b[0mtimeout\u001b[0m\u001b[0;34m)\u001b[0m\u001b[0;34m\u001b[0m\u001b[0;34m\u001b[0m\u001b[0m\n\u001b[0m\u001b[1;32m    649\u001b[0m \u001b[0;34m\u001b[0m\u001b[0m\n\u001b[1;32m    650\u001b[0m     \u001b[0;32mdef\u001b[0m \u001b[0mget\u001b[0m\u001b[0;34m(\u001b[0m\u001b[0mself\u001b[0m\u001b[0;34m,\u001b[0m \u001b[0mtimeout\u001b[0m\u001b[0;34m=\u001b[0m\u001b[0;32mNone\u001b[0m\u001b[0;34m)\u001b[0m\u001b[0;34m:\u001b[0m\u001b[0;34m\u001b[0m\u001b[0;34m\u001b[0m\u001b[0m\n",
      "\u001b[0;32m~/anaconda3/lib/python3.7/threading.py\u001b[0m in \u001b[0;36mwait\u001b[0;34m(self, timeout)\u001b[0m\n\u001b[1;32m    550\u001b[0m             \u001b[0msignaled\u001b[0m \u001b[0;34m=\u001b[0m \u001b[0mself\u001b[0m\u001b[0;34m.\u001b[0m\u001b[0m_flag\u001b[0m\u001b[0;34m\u001b[0m\u001b[0;34m\u001b[0m\u001b[0m\n\u001b[1;32m    551\u001b[0m             \u001b[0;32mif\u001b[0m \u001b[0;32mnot\u001b[0m \u001b[0msignaled\u001b[0m\u001b[0;34m:\u001b[0m\u001b[0;34m\u001b[0m\u001b[0;34m\u001b[0m\u001b[0m\n\u001b[0;32m--> 552\u001b[0;31m                 \u001b[0msignaled\u001b[0m \u001b[0;34m=\u001b[0m \u001b[0mself\u001b[0m\u001b[0;34m.\u001b[0m\u001b[0m_cond\u001b[0m\u001b[0;34m.\u001b[0m\u001b[0mwait\u001b[0m\u001b[0;34m(\u001b[0m\u001b[0mtimeout\u001b[0m\u001b[0;34m)\u001b[0m\u001b[0;34m\u001b[0m\u001b[0;34m\u001b[0m\u001b[0m\n\u001b[0m\u001b[1;32m    553\u001b[0m             \u001b[0;32mreturn\u001b[0m \u001b[0msignaled\u001b[0m\u001b[0;34m\u001b[0m\u001b[0;34m\u001b[0m\u001b[0m\n\u001b[1;32m    554\u001b[0m \u001b[0;34m\u001b[0m\u001b[0m\n",
      "\u001b[0;32m~/anaconda3/lib/python3.7/threading.py\u001b[0m in \u001b[0;36mwait\u001b[0;34m(self, timeout)\u001b[0m\n\u001b[1;32m    294\u001b[0m         \u001b[0;32mtry\u001b[0m\u001b[0;34m:\u001b[0m    \u001b[0;31m# restore state no matter what (e.g., KeyboardInterrupt)\u001b[0m\u001b[0;34m\u001b[0m\u001b[0;34m\u001b[0m\u001b[0m\n\u001b[1;32m    295\u001b[0m             \u001b[0;32mif\u001b[0m \u001b[0mtimeout\u001b[0m \u001b[0;32mis\u001b[0m \u001b[0;32mNone\u001b[0m\u001b[0;34m:\u001b[0m\u001b[0;34m\u001b[0m\u001b[0;34m\u001b[0m\u001b[0m\n\u001b[0;32m--> 296\u001b[0;31m                 \u001b[0mwaiter\u001b[0m\u001b[0;34m.\u001b[0m\u001b[0macquire\u001b[0m\u001b[0;34m(\u001b[0m\u001b[0;34m)\u001b[0m\u001b[0;34m\u001b[0m\u001b[0;34m\u001b[0m\u001b[0m\n\u001b[0m\u001b[1;32m    297\u001b[0m                 \u001b[0mgotit\u001b[0m \u001b[0;34m=\u001b[0m \u001b[0;32mTrue\u001b[0m\u001b[0;34m\u001b[0m\u001b[0;34m\u001b[0m\u001b[0m\n\u001b[1;32m    298\u001b[0m             \u001b[0;32melse\u001b[0m\u001b[0;34m:\u001b[0m\u001b[0;34m\u001b[0m\u001b[0;34m\u001b[0m\u001b[0m\n",
      "\u001b[0;31mKeyboardInterrupt\u001b[0m: "
     ]
    }
   ],
   "source": [
    "#Chapman-Kolmogorov test\n",
    "#Should a CK test fail, it means that the dynamics in the space of metastable states is not Markovian.\n",
    "#A failing CK test might further hint at poor sampling.\n",
    "pyemma.plots.plot_cktest(two_dist_msm.cktest(2), units='ps', y01=False, padding_top=0.08);\n",
    "#as we can see 4 metastable states is a good number of states\n",
    "plt.savefig(\"CK_amberidp_2_distances.png\",dpi=600,transparent=True, bbox_inches='tight')"
   ]
  },
  {
   "cell_type": "code",
   "execution_count": 39,
   "metadata": {},
   "outputs": [
    {
     "name": "stdout",
     "output_type": "stream",
     "text": [
      "[ 0  1  2  3  4  5  6  7  8  9 10 11 12 13 14 15 16 17 18 19 20 21 22 23\n",
      " 24 25 26 27 28 29 30 31 32 33 34 35 36 37 38 39 40 41 42 43 44 45 46 47\n",
      " 48 49 50 51 52 53 54 55 56 57 58 59 60 61 62 63 64 65 66 67 68 69 70 71\n",
      " 72 73 74]\n",
      "[0.01754598 0.12560194 0.00392285 0.14966628 0.00203426 0.00404382\n",
      " 0.00757537 0.01840615 0.16170074 0.0136713  0.01452644 0.00265395\n",
      " 0.00548046 0.01736068 0.00503045 0.10647238 0.0026222  0.07429994\n",
      " 0.00197012 0.00312544 0.00421226 0.00317844 0.03711253 0.00503466\n",
      " 0.00190248 0.00284991 0.00180116 0.00252176 0.00356527 0.00175305\n",
      " 0.00251893 0.002066   0.00157221 0.00447781 0.00570729 0.00330637\n",
      " 0.00748844 0.00247786 0.00290861 0.00353193 0.00278577 0.00298288\n",
      " 0.00244829 0.01142163 0.00290747 0.00255054 0.00276556 0.00459651\n",
      " 0.0028732  0.0091637  0.00588292 0.00410271 0.00284941 0.00242504\n",
      " 0.01571943 0.00487601 0.0031033  0.00433197 0.00296905 0.00406695\n",
      " 0.00195512 0.01069081 0.00455046 0.00348313 0.00226756 0.0070263\n",
      " 0.00163476 0.00511351 0.00408771 0.00383481 0.00456592 0.00269588\n",
      " 0.00422728 0.00567396 0.00567269]\n",
      "sum of weights = 1.000000\n",
      "first eigenvector is one: True (min=0.9999999999999982, max=1.0000000000000024)\n"
     ]
    }
   ],
   "source": [
    "#If there were any disconnectivities in our data (fractions <1), we could access the indices of the active states (members of the largest connected set) via the active_set attribute\n",
    "print(two_dist_msm.active_set)\n",
    "\n",
    "#With this potential issue out of the way, we can extract our first (stationary/thermodynamic) property, the stationary_distribution or, as a shortcut, pi:\n",
    "print(two_dist_msm.stationary_distribution)\n",
    "print('sum of weights = {:f}'.format(two_dist_msm.pi.sum()))\n",
    "\n",
    "#first eigenvector must be 1\n",
    "two_dist_eigvec = two_dist_msm.eigenvectors_right()\n",
    "print('first eigenvector is one: {} (min={}, max={})'.format(\n",
    "    np.allclose(two_dist_eigvec[:, 0], 1, atol=1e-15), two_dist_eigvec[:, 0].min(), two_dist_eigvec[:, 0].max()))"
   ]
  },
  {
   "cell_type": "code",
   "execution_count": 40,
   "metadata": {},
   "outputs": [
    {
     "name": "stdout",
     "output_type": "stream",
     "text": [
      "π_1 = 0.345146\n",
      "π_2 = 0.654854\n",
      "MFPT / steps:\n"
     ]
    },
    {
     "data": {
      "text/html": [
       "<div>\n",
       "<style scoped>\n",
       "    .dataframe tbody tr th:only-of-type {\n",
       "        vertical-align: middle;\n",
       "    }\n",
       "\n",
       "    .dataframe tbody tr th {\n",
       "        vertical-align: top;\n",
       "    }\n",
       "\n",
       "    .dataframe thead th {\n",
       "        text-align: right;\n",
       "    }\n",
       "</style>\n",
       "<table border=\"1\" class=\"dataframe\">\n",
       "  <thead>\n",
       "    <tr style=\"text-align: right;\">\n",
       "      <th></th>\n",
       "      <th>1</th>\n",
       "      <th>2</th>\n",
       "    </tr>\n",
       "  </thead>\n",
       "  <tbody>\n",
       "    <tr>\n",
       "      <th>1</th>\n",
       "      <td>0.00</td>\n",
       "      <td>4488.22</td>\n",
       "    </tr>\n",
       "    <tr>\n",
       "      <th>2</th>\n",
       "      <td>8544.69</td>\n",
       "      <td>0.00</td>\n",
       "    </tr>\n",
       "  </tbody>\n",
       "</table>\n",
       "</div>"
      ],
      "text/plain": [
       "         1        2\n",
       "1     0.00  4488.22\n",
       "2  8544.69     0.00"
      ]
     },
     "execution_count": 40,
     "metadata": {},
     "output_type": "execute_result"
    }
   ],
   "source": [
    "# We perform PCCA++ with this number of states for further analysis and print out the stationary probabilities of the metastable sets:\n",
    "nstates = 2\n",
    "two_dist_msm.pcca(nstates)\n",
    "\n",
    "for i, s in enumerate(two_dist_msm.metastable_sets):\n",
    "    print('π_{} = {:f}'.format(i + 1, two_dist_msm.pi[s].sum()))\n",
    "    \n",
    "two_dist_mfpt = np.zeros((nstates, nstates))\n",
    "for i in range(nstates):\n",
    "    for j in range(nstates):\n",
    "        two_dist_mfpt[i, j] = two_dist_msm.mfpt(\n",
    "            two_dist_msm.metastable_sets[i],\n",
    "            two_dist_msm.metastable_sets[j])\n",
    "\n",
    "two_dist_inverse_mfpt = np.zeros_like(two_dist_mfpt)\n",
    "two_dist_nz = two_dist_mfpt.nonzero()\n",
    "two_dist_inverse_mfpt[two_dist_nz] = 1.0 / two_dist_mfpt[two_dist_nz]\n",
    "\n",
    "from pandas import DataFrame\n",
    "print('MFPT / steps:')\n",
    "DataFrame(np.round(two_dist_mfpt, decimals=2), index=range(1, nstates + 1), columns=range(1, nstates + 1))"
   ]
  },
  {
   "cell_type": "code",
   "execution_count": 41,
   "metadata": {},
   "outputs": [
    {
     "name": "stdout",
     "output_type": "stream",
     "text": [
      "[6.9103465]\n",
      "[7.574901]\n"
     ]
    }
   ],
   "source": [
    "bound = []\n",
    "unbound = []\n",
    "cc = two_dist_cluster.clustercenters\n",
    "for i in range(len(two_dist_msm.metastable_assignments)):\n",
    "    if two_dist_msm.metastable_assignments[i] == 0:\n",
    "        unbound.append(cc[i])\n",
    "    else:\n",
    "        bound.append(cc[i])\n",
    "\n",
    "        \n",
    "print(max(bound))\n",
    "print(min(unbound))"
   ]
  },
  {
   "cell_type": "code",
   "execution_count": 42,
   "metadata": {},
   "outputs": [
    {
     "name": "stdout",
     "output_type": "stream",
     "text": [
      "PCCA(P=array([[0.03555, 0.0837 , ..., 0.00951, 0.00893],\n",
      "       [0.01169, 0.16609, ..., 0.00397, 0.00409],\n",
      "       ...,\n",
      "       [0.0294 , 0.08777, ..., 0.00813, 0.00781],\n",
      "       [0.02763, 0.0905 , ..., 0.00781, 0.01061]]),\n",
      "   m=2)\n"
     ]
    },
    {
     "data": {
      "text/plain": [
       "[array([ 0,  2,  4,  5,  6,  7,  9, 10, 11, 12, 13, 14, 16, 18, 19, 20, 21,\n",
       "        23, 24, 25, 26, 27, 28, 29, 30, 31, 32, 33, 34, 35, 36, 37, 38, 39,\n",
       "        40, 41, 42, 43, 44, 45, 46, 47, 48, 49, 50, 51, 52, 53, 54, 55, 56,\n",
       "        57, 58, 59, 60, 61, 62, 63, 64, 65, 66, 67, 68, 69, 70, 71, 72, 73,\n",
       "        74]), array([ 1,  3,  8, 15, 17, 22])]"
      ]
     },
     "execution_count": 42,
     "metadata": {},
     "output_type": "execute_result"
    }
   ],
   "source": [
    "#We assume based on the diagram that the bound state is the second one, because we have fewer populations\n",
    "metastability = two_dist_msm.pcca(2)\n",
    "print(metastability)\n",
    "\n",
    "#These are the indexes of the second population\n",
    "indexes = metastability.metastable_sets\n",
    "indexes"
   ]
  },
  {
   "cell_type": "code",
   "execution_count": 43,
   "metadata": {},
   "outputs": [
    {
     "name": "stdout",
     "output_type": "stream",
     "text": [
      "3.2665806337585783\n",
      "1.3754841217660758\n",
      "0.3451461804450261\n",
      "0.6548538195549737\n"
     ]
    },
    {
     "data": {
      "text/plain": [
       "-0.37945339832415287"
      ]
     },
     "execution_count": 43,
     "metadata": {},
     "output_type": "execute_result"
    }
   ],
   "source": [
    "#Loop to calculate the average free energy of the unbound states(by using -kT log(stationary distribution))\n",
    "k = 0.0019872041\n",
    "T = 298.15\n",
    "unbound_pis = []\n",
    "for x in metastability.metastable_sets[0]:\n",
    "    unbound_pis.append(two_dist_msm.stationary_distribution[x])\n",
    "    #print(short_dist_msm_tica.stationary_distribution[x])    \n",
    "    #overal_free_energy_unbound = -k*T*np.unbound_pis\n",
    "\n",
    "free_energy_unbound = -k*T*np.log(unbound_pis)\n",
    "average_unbound = np.mean(free_energy_unbound)\n",
    "print(average_unbound)\n",
    "\n",
    "#Find the ratio of each bound state versus the overall of the unbound energy\n",
    "bound_states = []\n",
    "free_energy_bound_states = []\n",
    "for i in metastability.metastable_sets[1]:\n",
    "    bound_states.append(two_dist_msm.stationary_distribution[i])\n",
    "\n",
    "free_energy_bound_states = -k*T*np.log(bound_states)\n",
    "average_bound = np.mean(free_energy_bound_states)\n",
    "#ratio_bound_unbound = free_energy_bound_states / free_energy_unbound\n",
    "print(average_bound)\n",
    "\n",
    "\n",
    "overall_unbound = np.sum(unbound_pis)\n",
    "print(overall_unbound)\n",
    "overall_bound = np.sum(bound_states)\n",
    "print(overall_bound)\n",
    "ratio = -k*T*np.log(overall_bound / overall_unbound)\n",
    "ratio"
   ]
  },
  {
   "cell_type": "code",
   "execution_count": 44,
   "metadata": {},
   "outputs": [
    {
     "name": "stdout",
     "output_type": "stream",
     "text": [
      "[0 1 0 1 0 0 0 0 1 0 0 0 0 0 0 1 0 1 0 0 0 0 1 0 0 0 0 0 0 0 0 0 0 0 0 0 0\n",
      " 0 0 0 0 0 0 0 0 0 0 0 0 0 0 0 0 0 0 0 0 0 0 0 0 0 0 0 0 0 0 0 0 0 0 0 0 0\n",
      " 0]\n",
      "6\n"
     ]
    }
   ],
   "source": [
    "#My way to pick the most populates states\n",
    "B = two_dist_msm.metastable_assignments\n",
    "print(B)\n",
    "C = []\n",
    "for i in range(len(two_dist_msm.metastable_assignments)):\n",
    "    if two_dist_msm.metastable_assignments[i] == 1:\n",
    "        C.append(two_dist_msm.metastable_assignments[i])\n",
    "print(len(C))"
   ]
  },
  {
   "cell_type": "code",
   "execution_count": 38,
   "metadata": {},
   "outputs": [
    {
     "data": {
      "application/vnd.jupyter.widget-view+json": {
       "model_id": "",
       "version_major": 2,
       "version_minor": 0
      },
      "text/plain": [
       "HBox(children=(HBox(children=(Label(value='Obtaining file info'),), layout=Layout(max_width='35%', min_width='…"
      ]
     },
     "metadata": {},
     "output_type": "display_data"
    },
    {
     "name": "stdout",
     "output_type": "stream",
     "text": [
      "[array([[   11, 43375]]) array([[    6, 49793]]) array([[   16, 54960]])\n",
      " array([[   13, 16911]]) array([[   8, 4413]]) array([[   2, 8026]])]\n"
     ]
    },
    {
     "data": {
      "text/plain": [
       "['amberidp_two_dist_1000_snapshots_vol1000000.pdb',\n",
       " 'amberidp_two_dist_1000_snapshots_vol1000001.pdb',\n",
       " 'amberidp_two_dist_1000_snapshots_vol1000002.pdb',\n",
       " 'amberidp_two_dist_1000_snapshots_vol1000003.pdb',\n",
       " 'amberidp_two_dist_1000_snapshots_vol1000004.pdb',\n",
       " 'amberidp_two_dist_1000_snapshots_vol1000005.pdb']"
      ]
     },
     "execution_count": 38,
     "metadata": {},
     "output_type": "execute_result"
    }
   ],
   "source": [
    "pcca_samples = two_dist_msm.sample_by_state(1, subset = C)\n",
    "short_dist = pyemma.coordinates.source(files, features=two_dist_feat)\n",
    "print(pcca_samples)\n",
    "pyemma.coordinates.save_trajs(\n",
    "    short_dist,\n",
    "    pcca_samples,\n",
    "    prefix = 'amberidp_two_dist_1000_snapshots_vol1',\n",
    "    fmt = 'pdb')"
   ]
  },
  {
   "cell_type": "code",
   "execution_count": 45,
   "metadata": {},
   "outputs": [
    {
     "data": {
      "application/vnd.jupyter.widget-view+json": {
       "model_id": "",
       "version_major": 2,
       "version_minor": 0
      },
      "text/plain": [
       "HBox(children=(HBox(children=(Label(value='Obtaining file info'),), layout=Layout(max_width='35%', min_width='…"
      ]
     },
     "metadata": {},
     "output_type": "display_data"
    },
    {
     "name": "stdout",
     "output_type": "stream",
     "text": [
      "\r",
      "[array([[   11, 18602],\n",
      "       [   11, 52990],\n",
      "       [    7, 54277],\n",
      "       ...,\n",
      "       [    1, 69333],\n",
      "       [   15, 96950],\n",
      "       [   16, 49331]])\n",
      " array([[    8, 24847],\n",
      "       [    7, 10081],\n",
      "       [    5, 49049],\n",
      "       ...,\n",
      "       [   18, 76844],\n",
      "       [   13, 53354],\n",
      "       [    3, 31445]])]\n"
     ]
    },
    {
     "data": {
      "text/plain": [
       "['two_dist1_2samples_vol4.xtc', 'two_dist2_2samples_vol4.xtc']"
      ]
     },
     "execution_count": 45,
     "metadata": {},
     "output_type": "execute_result"
    }
   ],
   "source": [
    "#This is a random sampling through the 2 states of the simulation (but we are not taking the most populated samples from each state)\n",
    "pcca_samples = two_dist_msm.sample_by_distributions(two_dist_msm.metastable_distributions, 1000)\n",
    "two_dist = pyemma.coordinates.source(files, features=two_dist_feat)\n",
    "print(pcca_samples)\n",
    "pyemma.coordinates.save_trajs(\n",
    "    two_dist,\n",
    "    pcca_samples,\n",
    "    outfiles=['two_dist{}_2samples_vol4.xtc'.format(n + 1)\n",
    "              for n in range(two_dist_msm.n_metastable)])"
   ]
  },
  {
   "cell_type": "code",
   "execution_count": null,
   "metadata": {},
   "outputs": [],
   "source": [
    "#For each metric\n",
    "#Simulated ligand in artificial free state. The ligand in free state will have standard volume\n",
    "#So we tend see the transition between bound and unbound. We tend to give much entropy to the ligand\n",
    "#and that's why we need the free volume instead the bound volume\n",
    "import numpy as np\n",
    "k = 0.0019872041\n",
    "T = 298.15\n",
    "pi = 3.14159\n",
    "r = 10.544257\n",
    "V_sphere = 1.33*pi*r**3\n",
    "print(\"the average value of distance C10 to Val6@CA is 11.76 A^3\")\n",
    "print('the volume of the sphere for the ligand is %f A^3' %V_sphere)\n",
    "\n",
    "Length = 46.9433320\n",
    "Width = 52.1732500\n",
    "Height = 43.2221480\n",
    "Vtotal = Length*Width*Height\n",
    "print('the average volume of the box is %f A^3' %Vtotal)\n",
    "\n",
    "Vfree = Vtotal - V_sphere \n",
    "print('the unbound volume of the box is %f A^3' %Vfree)\n",
    "\n",
    "Vstandard = 1660\n",
    "ratio = -0.11\n",
    "\n",
    "DGmsm = -ratio - k*T*np.log(V_sphere / Vstandard)\n",
    "print('the standard binding free energy is %f kcal/mol' %DGmsm)"
   ]
  },
  {
   "cell_type": "code",
   "execution_count": null,
   "metadata": {},
   "outputs": [],
   "source": [
    "#####Calculating transition rates - We need them in second-1 that's we calculate the values by 10^-9\n",
    "\n",
    "#Calculating the ligand's concentration\n",
    "Number_of_molecules = 1\n",
    "NA =  6.022 * 10**23\n",
    "Vtotal_liters = Vtotal * 10**-27\n",
    "\n",
    "Conc = Number_of_molecules / (NA * Vtotal_liters)\n",
    "print('the concentration of the ligand is %f M' %Conc)\n",
    "\n",
    "#Calculating koff\n",
    "print('mfpt of unbound to bound is %f' %two_dist_mfpt[0][1])\n",
    "koff = 1/(two_dist_mfpt[0][1]*10*10**-9)\n",
    "print(koff)\n",
    "\n",
    "#Calculating kon\n",
    "print('mfpt of bound to unbound is %f' %two_dist_mfpt[1][0])\n",
    "kon = 1/(two_dist_mfpt[1][0]*Conc*10*10**-9)\n",
    "kon"
   ]
  }
 ],
 "metadata": {
  "kernelspec": {
   "display_name": "Python 3",
   "language": "python",
   "name": "python3"
  },
  "language_info": {
   "codemirror_mode": {
    "name": "ipython",
    "version": 3
   },
   "file_extension": ".py",
   "mimetype": "text/x-python",
   "name": "python",
   "nbconvert_exporter": "python",
   "pygments_lexer": "ipython3",
   "version": "3.7.3"
  }
 },
 "nbformat": 4,
 "nbformat_minor": 2
}
